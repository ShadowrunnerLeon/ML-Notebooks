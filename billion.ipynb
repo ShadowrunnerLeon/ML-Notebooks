{
 "cells": [
  {
   "cell_type": "markdown",
   "metadata": {},
   "source": [
    "# Задача классификаци: по имеющимся данным определить страну биллионера\n",
    "\n",
    "### Датасет: https://www.kaggle.com/datasets/nelgiriyewithana/billionaires-statistics-dataset"
   ]
  },
  {
   "cell_type": "code",
   "execution_count": 69,
   "metadata": {},
   "outputs": [],
   "source": [
    "import pandas as pd"
   ]
  },
  {
   "cell_type": "code",
   "execution_count": 70,
   "metadata": {},
   "outputs": [
    {
     "data": {
      "text/html": [
       "<div>\n",
       "<style scoped>\n",
       "    .dataframe tbody tr th:only-of-type {\n",
       "        vertical-align: middle;\n",
       "    }\n",
       "\n",
       "    .dataframe tbody tr th {\n",
       "        vertical-align: top;\n",
       "    }\n",
       "\n",
       "    .dataframe thead th {\n",
       "        text-align: right;\n",
       "    }\n",
       "</style>\n",
       "<table border=\"1\" class=\"dataframe\">\n",
       "  <thead>\n",
       "    <tr style=\"text-align: right;\">\n",
       "      <th></th>\n",
       "      <th>rank</th>\n",
       "      <th>finalWorth</th>\n",
       "      <th>category</th>\n",
       "      <th>personName</th>\n",
       "      <th>age</th>\n",
       "      <th>country</th>\n",
       "      <th>city</th>\n",
       "      <th>source</th>\n",
       "      <th>industries</th>\n",
       "      <th>countryOfCitizenship</th>\n",
       "      <th>...</th>\n",
       "      <th>cpi_change_country</th>\n",
       "      <th>gdp_country</th>\n",
       "      <th>gross_tertiary_education_enrollment</th>\n",
       "      <th>gross_primary_education_enrollment_country</th>\n",
       "      <th>life_expectancy_country</th>\n",
       "      <th>tax_revenue_country_country</th>\n",
       "      <th>total_tax_rate_country</th>\n",
       "      <th>population_country</th>\n",
       "      <th>latitude_country</th>\n",
       "      <th>longitude_country</th>\n",
       "    </tr>\n",
       "  </thead>\n",
       "  <tbody>\n",
       "    <tr>\n",
       "      <th>0</th>\n",
       "      <td>1</td>\n",
       "      <td>211000</td>\n",
       "      <td>Fashion &amp; Retail</td>\n",
       "      <td>Bernard Arnault &amp; family</td>\n",
       "      <td>74.0</td>\n",
       "      <td>France</td>\n",
       "      <td>Paris</td>\n",
       "      <td>LVMH</td>\n",
       "      <td>Fashion &amp; Retail</td>\n",
       "      <td>France</td>\n",
       "      <td>...</td>\n",
       "      <td>1.1</td>\n",
       "      <td>$2,715,518,274,227</td>\n",
       "      <td>65.6</td>\n",
       "      <td>102.5</td>\n",
       "      <td>82.5</td>\n",
       "      <td>24.2</td>\n",
       "      <td>60.7</td>\n",
       "      <td>6.705989e+07</td>\n",
       "      <td>46.227638</td>\n",
       "      <td>2.213749</td>\n",
       "    </tr>\n",
       "    <tr>\n",
       "      <th>1</th>\n",
       "      <td>2</td>\n",
       "      <td>180000</td>\n",
       "      <td>Automotive</td>\n",
       "      <td>Elon Musk</td>\n",
       "      <td>51.0</td>\n",
       "      <td>United States</td>\n",
       "      <td>Austin</td>\n",
       "      <td>Tesla, SpaceX</td>\n",
       "      <td>Automotive</td>\n",
       "      <td>United States</td>\n",
       "      <td>...</td>\n",
       "      <td>7.5</td>\n",
       "      <td>$21,427,700,000,000</td>\n",
       "      <td>88.2</td>\n",
       "      <td>101.8</td>\n",
       "      <td>78.5</td>\n",
       "      <td>9.6</td>\n",
       "      <td>36.6</td>\n",
       "      <td>3.282395e+08</td>\n",
       "      <td>37.090240</td>\n",
       "      <td>-95.712891</td>\n",
       "    </tr>\n",
       "    <tr>\n",
       "      <th>2</th>\n",
       "      <td>3</td>\n",
       "      <td>114000</td>\n",
       "      <td>Technology</td>\n",
       "      <td>Jeff Bezos</td>\n",
       "      <td>59.0</td>\n",
       "      <td>United States</td>\n",
       "      <td>Medina</td>\n",
       "      <td>Amazon</td>\n",
       "      <td>Technology</td>\n",
       "      <td>United States</td>\n",
       "      <td>...</td>\n",
       "      <td>7.5</td>\n",
       "      <td>$21,427,700,000,000</td>\n",
       "      <td>88.2</td>\n",
       "      <td>101.8</td>\n",
       "      <td>78.5</td>\n",
       "      <td>9.6</td>\n",
       "      <td>36.6</td>\n",
       "      <td>3.282395e+08</td>\n",
       "      <td>37.090240</td>\n",
       "      <td>-95.712891</td>\n",
       "    </tr>\n",
       "    <tr>\n",
       "      <th>3</th>\n",
       "      <td>4</td>\n",
       "      <td>107000</td>\n",
       "      <td>Technology</td>\n",
       "      <td>Larry Ellison</td>\n",
       "      <td>78.0</td>\n",
       "      <td>United States</td>\n",
       "      <td>Lanai</td>\n",
       "      <td>Oracle</td>\n",
       "      <td>Technology</td>\n",
       "      <td>United States</td>\n",
       "      <td>...</td>\n",
       "      <td>7.5</td>\n",
       "      <td>$21,427,700,000,000</td>\n",
       "      <td>88.2</td>\n",
       "      <td>101.8</td>\n",
       "      <td>78.5</td>\n",
       "      <td>9.6</td>\n",
       "      <td>36.6</td>\n",
       "      <td>3.282395e+08</td>\n",
       "      <td>37.090240</td>\n",
       "      <td>-95.712891</td>\n",
       "    </tr>\n",
       "    <tr>\n",
       "      <th>4</th>\n",
       "      <td>5</td>\n",
       "      <td>106000</td>\n",
       "      <td>Finance &amp; Investments</td>\n",
       "      <td>Warren Buffett</td>\n",
       "      <td>92.0</td>\n",
       "      <td>United States</td>\n",
       "      <td>Omaha</td>\n",
       "      <td>Berkshire Hathaway</td>\n",
       "      <td>Finance &amp; Investments</td>\n",
       "      <td>United States</td>\n",
       "      <td>...</td>\n",
       "      <td>7.5</td>\n",
       "      <td>$21,427,700,000,000</td>\n",
       "      <td>88.2</td>\n",
       "      <td>101.8</td>\n",
       "      <td>78.5</td>\n",
       "      <td>9.6</td>\n",
       "      <td>36.6</td>\n",
       "      <td>3.282395e+08</td>\n",
       "      <td>37.090240</td>\n",
       "      <td>-95.712891</td>\n",
       "    </tr>\n",
       "    <tr>\n",
       "      <th>...</th>\n",
       "      <td>...</td>\n",
       "      <td>...</td>\n",
       "      <td>...</td>\n",
       "      <td>...</td>\n",
       "      <td>...</td>\n",
       "      <td>...</td>\n",
       "      <td>...</td>\n",
       "      <td>...</td>\n",
       "      <td>...</td>\n",
       "      <td>...</td>\n",
       "      <td>...</td>\n",
       "      <td>...</td>\n",
       "      <td>...</td>\n",
       "      <td>...</td>\n",
       "      <td>...</td>\n",
       "      <td>...</td>\n",
       "      <td>...</td>\n",
       "      <td>...</td>\n",
       "      <td>...</td>\n",
       "      <td>...</td>\n",
       "      <td>...</td>\n",
       "    </tr>\n",
       "    <tr>\n",
       "      <th>2635</th>\n",
       "      <td>2540</td>\n",
       "      <td>1000</td>\n",
       "      <td>Healthcare</td>\n",
       "      <td>Yu Rong</td>\n",
       "      <td>51.0</td>\n",
       "      <td>China</td>\n",
       "      <td>Shanghai</td>\n",
       "      <td>Health clinics</td>\n",
       "      <td>Healthcare</td>\n",
       "      <td>China</td>\n",
       "      <td>...</td>\n",
       "      <td>2.9</td>\n",
       "      <td>$19,910,000,000,000</td>\n",
       "      <td>50.6</td>\n",
       "      <td>100.2</td>\n",
       "      <td>77.0</td>\n",
       "      <td>9.4</td>\n",
       "      <td>59.2</td>\n",
       "      <td>1.397715e+09</td>\n",
       "      <td>35.861660</td>\n",
       "      <td>104.195397</td>\n",
       "    </tr>\n",
       "    <tr>\n",
       "      <th>2636</th>\n",
       "      <td>2540</td>\n",
       "      <td>1000</td>\n",
       "      <td>Food &amp; Beverage</td>\n",
       "      <td>Richard Yuengling, Jr.</td>\n",
       "      <td>80.0</td>\n",
       "      <td>United States</td>\n",
       "      <td>Pottsville</td>\n",
       "      <td>Beer</td>\n",
       "      <td>Food &amp; Beverage</td>\n",
       "      <td>United States</td>\n",
       "      <td>...</td>\n",
       "      <td>7.5</td>\n",
       "      <td>$21,427,700,000,000</td>\n",
       "      <td>88.2</td>\n",
       "      <td>101.8</td>\n",
       "      <td>78.5</td>\n",
       "      <td>9.6</td>\n",
       "      <td>36.6</td>\n",
       "      <td>3.282395e+08</td>\n",
       "      <td>37.090240</td>\n",
       "      <td>-95.712891</td>\n",
       "    </tr>\n",
       "    <tr>\n",
       "      <th>2637</th>\n",
       "      <td>2540</td>\n",
       "      <td>1000</td>\n",
       "      <td>Manufacturing</td>\n",
       "      <td>Zhang Gongyun</td>\n",
       "      <td>60.0</td>\n",
       "      <td>China</td>\n",
       "      <td>Gaomi</td>\n",
       "      <td>Tyre manufacturing machinery</td>\n",
       "      <td>Manufacturing</td>\n",
       "      <td>China</td>\n",
       "      <td>...</td>\n",
       "      <td>2.9</td>\n",
       "      <td>$19,910,000,000,000</td>\n",
       "      <td>50.6</td>\n",
       "      <td>100.2</td>\n",
       "      <td>77.0</td>\n",
       "      <td>9.4</td>\n",
       "      <td>59.2</td>\n",
       "      <td>1.397715e+09</td>\n",
       "      <td>35.861660</td>\n",
       "      <td>104.195397</td>\n",
       "    </tr>\n",
       "    <tr>\n",
       "      <th>2638</th>\n",
       "      <td>2540</td>\n",
       "      <td>1000</td>\n",
       "      <td>Real Estate</td>\n",
       "      <td>Zhang Guiping &amp; family</td>\n",
       "      <td>71.0</td>\n",
       "      <td>China</td>\n",
       "      <td>Nanjing</td>\n",
       "      <td>Real estate</td>\n",
       "      <td>Real Estate</td>\n",
       "      <td>China</td>\n",
       "      <td>...</td>\n",
       "      <td>2.9</td>\n",
       "      <td>$19,910,000,000,000</td>\n",
       "      <td>50.6</td>\n",
       "      <td>100.2</td>\n",
       "      <td>77.0</td>\n",
       "      <td>9.4</td>\n",
       "      <td>59.2</td>\n",
       "      <td>1.397715e+09</td>\n",
       "      <td>35.861660</td>\n",
       "      <td>104.195397</td>\n",
       "    </tr>\n",
       "    <tr>\n",
       "      <th>2639</th>\n",
       "      <td>2540</td>\n",
       "      <td>1000</td>\n",
       "      <td>Diversified</td>\n",
       "      <td>Inigo Zobel</td>\n",
       "      <td>66.0</td>\n",
       "      <td>Philippines</td>\n",
       "      <td>Makati</td>\n",
       "      <td>Diversified</td>\n",
       "      <td>Diversified</td>\n",
       "      <td>Philippines</td>\n",
       "      <td>...</td>\n",
       "      <td>2.5</td>\n",
       "      <td>$376,795,508,680</td>\n",
       "      <td>35.5</td>\n",
       "      <td>107.5</td>\n",
       "      <td>71.1</td>\n",
       "      <td>14.0</td>\n",
       "      <td>43.1</td>\n",
       "      <td>1.081166e+08</td>\n",
       "      <td>12.879721</td>\n",
       "      <td>121.774017</td>\n",
       "    </tr>\n",
       "  </tbody>\n",
       "</table>\n",
       "<p>2640 rows × 35 columns</p>\n",
       "</div>"
      ],
      "text/plain": [
       "      rank  finalWorth               category                personName   age  \\\n",
       "0        1      211000       Fashion & Retail  Bernard Arnault & family  74.0   \n",
       "1        2      180000             Automotive                 Elon Musk  51.0   \n",
       "2        3      114000             Technology                Jeff Bezos  59.0   \n",
       "3        4      107000             Technology             Larry Ellison  78.0   \n",
       "4        5      106000  Finance & Investments            Warren Buffett  92.0   \n",
       "...    ...         ...                    ...                       ...   ...   \n",
       "2635  2540        1000             Healthcare                   Yu Rong  51.0   \n",
       "2636  2540        1000        Food & Beverage    Richard Yuengling, Jr.  80.0   \n",
       "2637  2540        1000          Manufacturing             Zhang Gongyun  60.0   \n",
       "2638  2540        1000            Real Estate    Zhang Guiping & family  71.0   \n",
       "2639  2540        1000            Diversified               Inigo Zobel  66.0   \n",
       "\n",
       "            country        city                        source  \\\n",
       "0            France       Paris                          LVMH   \n",
       "1     United States      Austin                 Tesla, SpaceX   \n",
       "2     United States      Medina                        Amazon   \n",
       "3     United States       Lanai                        Oracle   \n",
       "4     United States       Omaha            Berkshire Hathaway   \n",
       "...             ...         ...                           ...   \n",
       "2635          China    Shanghai                Health clinics   \n",
       "2636  United States  Pottsville                          Beer   \n",
       "2637          China       Gaomi  Tyre manufacturing machinery   \n",
       "2638          China     Nanjing                   Real estate   \n",
       "2639    Philippines      Makati                   Diversified   \n",
       "\n",
       "                 industries countryOfCitizenship  ... cpi_change_country  \\\n",
       "0          Fashion & Retail               France  ...                1.1   \n",
       "1                Automotive        United States  ...                7.5   \n",
       "2                Technology        United States  ...                7.5   \n",
       "3                Technology        United States  ...                7.5   \n",
       "4     Finance & Investments        United States  ...                7.5   \n",
       "...                     ...                  ...  ...                ...   \n",
       "2635             Healthcare                China  ...                2.9   \n",
       "2636        Food & Beverage        United States  ...                7.5   \n",
       "2637          Manufacturing                China  ...                2.9   \n",
       "2638            Real Estate                China  ...                2.9   \n",
       "2639            Diversified          Philippines  ...                2.5   \n",
       "\n",
       "               gdp_country gross_tertiary_education_enrollment  \\\n",
       "0      $2,715,518,274,227                                 65.6   \n",
       "1     $21,427,700,000,000                                 88.2   \n",
       "2     $21,427,700,000,000                                 88.2   \n",
       "3     $21,427,700,000,000                                 88.2   \n",
       "4     $21,427,700,000,000                                 88.2   \n",
       "...                    ...                                 ...   \n",
       "2635  $19,910,000,000,000                                 50.6   \n",
       "2636  $21,427,700,000,000                                 88.2   \n",
       "2637  $19,910,000,000,000                                 50.6   \n",
       "2638  $19,910,000,000,000                                 50.6   \n",
       "2639     $376,795,508,680                                 35.5   \n",
       "\n",
       "     gross_primary_education_enrollment_country life_expectancy_country  \\\n",
       "0                                         102.5                    82.5   \n",
       "1                                         101.8                    78.5   \n",
       "2                                         101.8                    78.5   \n",
       "3                                         101.8                    78.5   \n",
       "4                                         101.8                    78.5   \n",
       "...                                         ...                     ...   \n",
       "2635                                      100.2                    77.0   \n",
       "2636                                      101.8                    78.5   \n",
       "2637                                      100.2                    77.0   \n",
       "2638                                      100.2                    77.0   \n",
       "2639                                      107.5                    71.1   \n",
       "\n",
       "     tax_revenue_country_country total_tax_rate_country population_country  \\\n",
       "0                           24.2                   60.7       6.705989e+07   \n",
       "1                            9.6                   36.6       3.282395e+08   \n",
       "2                            9.6                   36.6       3.282395e+08   \n",
       "3                            9.6                   36.6       3.282395e+08   \n",
       "4                            9.6                   36.6       3.282395e+08   \n",
       "...                          ...                    ...                ...   \n",
       "2635                         9.4                   59.2       1.397715e+09   \n",
       "2636                         9.6                   36.6       3.282395e+08   \n",
       "2637                         9.4                   59.2       1.397715e+09   \n",
       "2638                         9.4                   59.2       1.397715e+09   \n",
       "2639                        14.0                   43.1       1.081166e+08   \n",
       "\n",
       "     latitude_country longitude_country  \n",
       "0           46.227638          2.213749  \n",
       "1           37.090240        -95.712891  \n",
       "2           37.090240        -95.712891  \n",
       "3           37.090240        -95.712891  \n",
       "4           37.090240        -95.712891  \n",
       "...               ...               ...  \n",
       "2635        35.861660        104.195397  \n",
       "2636        37.090240        -95.712891  \n",
       "2637        35.861660        104.195397  \n",
       "2638        35.861660        104.195397  \n",
       "2639        12.879721        121.774017  \n",
       "\n",
       "[2640 rows x 35 columns]"
      ]
     },
     "execution_count": 70,
     "metadata": {},
     "output_type": "execute_result"
    }
   ],
   "source": [
    "data = pd.read_csv('Billionaires Statistics Dataset.csv')\n",
    "data"
   ]
  },
  {
   "cell_type": "code",
   "execution_count": 71,
   "metadata": {},
   "outputs": [
    {
     "data": {
      "text/plain": [
       "Index(['rank', 'finalWorth', 'category', 'personName', 'age', 'country',\n",
       "       'city', 'source', 'industries', 'countryOfCitizenship', 'organization',\n",
       "       'selfMade', 'status', 'gender', 'birthDate', 'lastName', 'firstName',\n",
       "       'title', 'date', 'state', 'residenceStateRegion', 'birthYear',\n",
       "       'birthMonth', 'birthDay', 'cpi_country', 'cpi_change_country',\n",
       "       'gdp_country', 'gross_tertiary_education_enrollment',\n",
       "       'gross_primary_education_enrollment_country', 'life_expectancy_country',\n",
       "       'tax_revenue_country_country', 'total_tax_rate_country',\n",
       "       'population_country', 'latitude_country', 'longitude_country'],\n",
       "      dtype='object')"
      ]
     },
     "execution_count": 71,
     "metadata": {},
     "output_type": "execute_result"
    }
   ],
   "source": [
    "data.columns"
   ]
  },
  {
   "cell_type": "markdown",
   "metadata": {},
   "source": [
    "# Предобработка\n",
    "\n",
    "- Наличие выбросов и пустых полей (пустые поля: осталось 3 колонки - текстовые и категориальные)\n",
    "\n",
    "- Удаление колонок\n",
    "\n",
    "- Зависимость между колонками\n",
    "\n",
    "- Поиск дубликатов\n",
    "\n",
    "- Изменение типов колонок (при необходимости)\n",
    "\n",
    "- Нормализация\n",
    "\n",
    "- Преобразование категориальных и текстовых признаков\n"
   ]
  },
  {
   "cell_type": "markdown",
   "metadata": {},
   "source": [
    "## ----------------------------------------------\n",
    "## Наличие пустых полей\n",
    "## ----------------------------------------------"
   ]
  },
  {
   "cell_type": "code",
   "execution_count": 72,
   "metadata": {},
   "outputs": [
    {
     "data": {
      "text/plain": [
       "rank                                             0\n",
       "finalWorth                                       0\n",
       "category                                         0\n",
       "personName                                       0\n",
       "age                                             65\n",
       "country                                         38\n",
       "city                                            72\n",
       "source                                           0\n",
       "industries                                       0\n",
       "countryOfCitizenship                             0\n",
       "organization                                  2315\n",
       "selfMade                                         0\n",
       "status                                           0\n",
       "gender                                           0\n",
       "birthDate                                       76\n",
       "lastName                                         0\n",
       "firstName                                        3\n",
       "title                                         2301\n",
       "date                                             0\n",
       "state                                         1887\n",
       "residenceStateRegion                          1893\n",
       "birthYear                                       76\n",
       "birthMonth                                      76\n",
       "birthDay                                        76\n",
       "cpi_country                                    184\n",
       "cpi_change_country                             184\n",
       "gdp_country                                    164\n",
       "gross_tertiary_education_enrollment            182\n",
       "gross_primary_education_enrollment_country     181\n",
       "life_expectancy_country                        182\n",
       "tax_revenue_country_country                    183\n",
       "total_tax_rate_country                         182\n",
       "population_country                             164\n",
       "latitude_country                               164\n",
       "longitude_country                              164\n",
       "dtype: int64"
      ]
     },
     "execution_count": 72,
     "metadata": {},
     "output_type": "execute_result"
    }
   ],
   "source": [
    "pd.isnull(data).sum()"
   ]
  },
  {
   "cell_type": "markdown",
   "metadata": {},
   "source": [
    "### Удаление колонок с большим количеством пропусков"
   ]
  },
  {
   "cell_type": "code",
   "execution_count": 73,
   "metadata": {},
   "outputs": [],
   "source": [
    "data = data.drop(columns = ['organization', 'title', 'state', 'residenceStateRegion'])"
   ]
  },
  {
   "cell_type": "code",
   "execution_count": 74,
   "metadata": {},
   "outputs": [
    {
     "data": {
      "text/plain": [
       "rank                                            0\n",
       "finalWorth                                      0\n",
       "category                                        0\n",
       "personName                                      0\n",
       "age                                            65\n",
       "country                                        38\n",
       "city                                           72\n",
       "source                                          0\n",
       "industries                                      0\n",
       "countryOfCitizenship                            0\n",
       "selfMade                                        0\n",
       "status                                          0\n",
       "gender                                          0\n",
       "birthDate                                      76\n",
       "lastName                                        0\n",
       "firstName                                       3\n",
       "date                                            0\n",
       "birthYear                                      76\n",
       "birthMonth                                     76\n",
       "birthDay                                       76\n",
       "cpi_country                                   184\n",
       "cpi_change_country                            184\n",
       "gdp_country                                   164\n",
       "gross_tertiary_education_enrollment           182\n",
       "gross_primary_education_enrollment_country    181\n",
       "life_expectancy_country                       182\n",
       "tax_revenue_country_country                   183\n",
       "total_tax_rate_country                        182\n",
       "population_country                            164\n",
       "latitude_country                              164\n",
       "longitude_country                             164\n",
       "dtype: int64"
      ]
     },
     "execution_count": 74,
     "metadata": {},
     "output_type": "execute_result"
    }
   ],
   "source": [
    "pd.isnull(data).sum()"
   ]
  },
  {
   "cell_type": "code",
   "execution_count": 75,
   "metadata": {},
   "outputs": [
    {
     "data": {
      "text/html": [
       "<div>\n",
       "<style scoped>\n",
       "    .dataframe tbody tr th:only-of-type {\n",
       "        vertical-align: middle;\n",
       "    }\n",
       "\n",
       "    .dataframe tbody tr th {\n",
       "        vertical-align: top;\n",
       "    }\n",
       "\n",
       "    .dataframe thead th {\n",
       "        text-align: right;\n",
       "    }\n",
       "</style>\n",
       "<table border=\"1\" class=\"dataframe\">\n",
       "  <thead>\n",
       "    <tr style=\"text-align: right;\">\n",
       "      <th></th>\n",
       "      <th>birthDate</th>\n",
       "      <th>birthYear</th>\n",
       "      <th>birthMonth</th>\n",
       "      <th>birthDay</th>\n",
       "    </tr>\n",
       "  </thead>\n",
       "  <tbody>\n",
       "    <tr>\n",
       "      <th>0</th>\n",
       "      <td>3/5/1949 0:00</td>\n",
       "      <td>1949.0</td>\n",
       "      <td>3.0</td>\n",
       "      <td>5.0</td>\n",
       "    </tr>\n",
       "    <tr>\n",
       "      <th>1</th>\n",
       "      <td>6/28/1971 0:00</td>\n",
       "      <td>1971.0</td>\n",
       "      <td>6.0</td>\n",
       "      <td>28.0</td>\n",
       "    </tr>\n",
       "    <tr>\n",
       "      <th>2</th>\n",
       "      <td>1/12/1964 0:00</td>\n",
       "      <td>1964.0</td>\n",
       "      <td>1.0</td>\n",
       "      <td>12.0</td>\n",
       "    </tr>\n",
       "    <tr>\n",
       "      <th>3</th>\n",
       "      <td>8/17/1944 0:00</td>\n",
       "      <td>1944.0</td>\n",
       "      <td>8.0</td>\n",
       "      <td>17.0</td>\n",
       "    </tr>\n",
       "    <tr>\n",
       "      <th>4</th>\n",
       "      <td>8/30/1930 0:00</td>\n",
       "      <td>1930.0</td>\n",
       "      <td>8.0</td>\n",
       "      <td>30.0</td>\n",
       "    </tr>\n",
       "    <tr>\n",
       "      <th>...</th>\n",
       "      <td>...</td>\n",
       "      <td>...</td>\n",
       "      <td>...</td>\n",
       "      <td>...</td>\n",
       "    </tr>\n",
       "    <tr>\n",
       "      <th>2635</th>\n",
       "      <td>12/14/1971 0:00</td>\n",
       "      <td>1971.0</td>\n",
       "      <td>12.0</td>\n",
       "      <td>14.0</td>\n",
       "    </tr>\n",
       "    <tr>\n",
       "      <th>2636</th>\n",
       "      <td>3/10/1943 0:00</td>\n",
       "      <td>1943.0</td>\n",
       "      <td>3.0</td>\n",
       "      <td>10.0</td>\n",
       "    </tr>\n",
       "    <tr>\n",
       "      <th>2637</th>\n",
       "      <td>12/18/1962 0:00</td>\n",
       "      <td>1962.0</td>\n",
       "      <td>12.0</td>\n",
       "      <td>18.0</td>\n",
       "    </tr>\n",
       "    <tr>\n",
       "      <th>2638</th>\n",
       "      <td>8/21/1951 0:00</td>\n",
       "      <td>1951.0</td>\n",
       "      <td>8.0</td>\n",
       "      <td>21.0</td>\n",
       "    </tr>\n",
       "    <tr>\n",
       "      <th>2639</th>\n",
       "      <td>11/1/1956 0:00</td>\n",
       "      <td>1956.0</td>\n",
       "      <td>11.0</td>\n",
       "      <td>1.0</td>\n",
       "    </tr>\n",
       "  </tbody>\n",
       "</table>\n",
       "<p>2640 rows × 4 columns</p>\n",
       "</div>"
      ],
      "text/plain": [
       "            birthDate  birthYear  birthMonth  birthDay\n",
       "0       3/5/1949 0:00     1949.0         3.0       5.0\n",
       "1      6/28/1971 0:00     1971.0         6.0      28.0\n",
       "2      1/12/1964 0:00     1964.0         1.0      12.0\n",
       "3      8/17/1944 0:00     1944.0         8.0      17.0\n",
       "4      8/30/1930 0:00     1930.0         8.0      30.0\n",
       "...               ...        ...         ...       ...\n",
       "2635  12/14/1971 0:00     1971.0        12.0      14.0\n",
       "2636   3/10/1943 0:00     1943.0         3.0      10.0\n",
       "2637  12/18/1962 0:00     1962.0        12.0      18.0\n",
       "2638   8/21/1951 0:00     1951.0         8.0      21.0\n",
       "2639   11/1/1956 0:00     1956.0        11.0       1.0\n",
       "\n",
       "[2640 rows x 4 columns]"
      ]
     },
     "execution_count": 75,
     "metadata": {},
     "output_type": "execute_result"
    }
   ],
   "source": [
    "data[['birthDate', 'birthYear', 'birthMonth', 'birthDay']]"
   ]
  },
  {
   "cell_type": "markdown",
   "metadata": {},
   "source": [
    "### birthDate не нужен, т.к. данные уже есть в 3 других колонках\n",
    "\n",
    "### изменить тип c float на int  "
   ]
  },
  {
   "cell_type": "code",
   "execution_count": 76,
   "metadata": {},
   "outputs": [
    {
     "data": {
      "text/html": [
       "<div>\n",
       "<style scoped>\n",
       "    .dataframe tbody tr th:only-of-type {\n",
       "        vertical-align: middle;\n",
       "    }\n",
       "\n",
       "    .dataframe tbody tr th {\n",
       "        vertical-align: top;\n",
       "    }\n",
       "\n",
       "    .dataframe thead th {\n",
       "        text-align: right;\n",
       "    }\n",
       "</style>\n",
       "<table border=\"1\" class=\"dataframe\">\n",
       "  <thead>\n",
       "    <tr style=\"text-align: right;\">\n",
       "      <th></th>\n",
       "      <th>birthYear</th>\n",
       "      <th>birthMonth</th>\n",
       "      <th>birthDay</th>\n",
       "    </tr>\n",
       "  </thead>\n",
       "  <tbody>\n",
       "    <tr>\n",
       "      <th>0</th>\n",
       "      <td>1949</td>\n",
       "      <td>3</td>\n",
       "      <td>5</td>\n",
       "    </tr>\n",
       "    <tr>\n",
       "      <th>1</th>\n",
       "      <td>1971</td>\n",
       "      <td>6</td>\n",
       "      <td>28</td>\n",
       "    </tr>\n",
       "    <tr>\n",
       "      <th>2</th>\n",
       "      <td>1964</td>\n",
       "      <td>1</td>\n",
       "      <td>12</td>\n",
       "    </tr>\n",
       "    <tr>\n",
       "      <th>3</th>\n",
       "      <td>1944</td>\n",
       "      <td>8</td>\n",
       "      <td>17</td>\n",
       "    </tr>\n",
       "    <tr>\n",
       "      <th>4</th>\n",
       "      <td>1930</td>\n",
       "      <td>8</td>\n",
       "      <td>30</td>\n",
       "    </tr>\n",
       "    <tr>\n",
       "      <th>...</th>\n",
       "      <td>...</td>\n",
       "      <td>...</td>\n",
       "      <td>...</td>\n",
       "    </tr>\n",
       "    <tr>\n",
       "      <th>2635</th>\n",
       "      <td>1971</td>\n",
       "      <td>12</td>\n",
       "      <td>14</td>\n",
       "    </tr>\n",
       "    <tr>\n",
       "      <th>2636</th>\n",
       "      <td>1943</td>\n",
       "      <td>3</td>\n",
       "      <td>10</td>\n",
       "    </tr>\n",
       "    <tr>\n",
       "      <th>2637</th>\n",
       "      <td>1962</td>\n",
       "      <td>12</td>\n",
       "      <td>18</td>\n",
       "    </tr>\n",
       "    <tr>\n",
       "      <th>2638</th>\n",
       "      <td>1951</td>\n",
       "      <td>8</td>\n",
       "      <td>21</td>\n",
       "    </tr>\n",
       "    <tr>\n",
       "      <th>2639</th>\n",
       "      <td>1956</td>\n",
       "      <td>11</td>\n",
       "      <td>1</td>\n",
       "    </tr>\n",
       "  </tbody>\n",
       "</table>\n",
       "<p>2640 rows × 3 columns</p>\n",
       "</div>"
      ],
      "text/plain": [
       "      birthYear  birthMonth  birthDay\n",
       "0          1949           3         5\n",
       "1          1971           6        28\n",
       "2          1964           1        12\n",
       "3          1944           8        17\n",
       "4          1930           8        30\n",
       "...         ...         ...       ...\n",
       "2635       1971          12        14\n",
       "2636       1943           3        10\n",
       "2637       1962          12        18\n",
       "2638       1951           8        21\n",
       "2639       1956          11         1\n",
       "\n",
       "[2640 rows x 3 columns]"
      ]
     },
     "execution_count": 76,
     "metadata": {},
     "output_type": "execute_result"
    }
   ],
   "source": [
    "data = data.drop(columns = 'birthDate')\n",
    "data[['birthYear', 'birthMonth', 'birthDay']].astype(\"Int32\")"
   ]
  },
  {
   "cell_type": "markdown",
   "metadata": {},
   "source": [
    "### Заполнили пропуски медианой у числовых значений"
   ]
  },
  {
   "cell_type": "code",
   "execution_count": 77,
   "metadata": {},
   "outputs": [
    {
     "name": "stderr",
     "output_type": "stream",
     "text": [
      "/tmp/ipykernel_3638/1553445849.py:1: FutureWarning: The default value of numeric_only in DataFrame.median is deprecated. In a future version, it will default to False. In addition, specifying 'numeric_only=None' is deprecated. Select only valid columns or specify the value of numeric_only to silence this warning.\n",
      "  data = data.fillna(data.median())\n"
     ]
    }
   ],
   "source": [
    "data = data.fillna(data.median())"
   ]
  },
  {
   "cell_type": "code",
   "execution_count": 10,
   "metadata": {},
   "outputs": [
    {
     "data": {
      "text/plain": [
       "rank                                            0\n",
       "finalWorth                                      0\n",
       "category                                        0\n",
       "personName                                      0\n",
       "age                                             0\n",
       "country                                        38\n",
       "city                                           72\n",
       "source                                          0\n",
       "industries                                      0\n",
       "countryOfCitizenship                            0\n",
       "selfMade                                        0\n",
       "status                                          0\n",
       "gender                                          0\n",
       "lastName                                        0\n",
       "firstName                                       3\n",
       "date                                            0\n",
       "birthYear                                       0\n",
       "birthMonth                                      0\n",
       "birthDay                                        0\n",
       "cpi_country                                     0\n",
       "cpi_change_country                              0\n",
       "gdp_country                                   164\n",
       "gross_tertiary_education_enrollment             0\n",
       "gross_primary_education_enrollment_country      0\n",
       "life_expectancy_country                         0\n",
       "tax_revenue_country_country                     0\n",
       "total_tax_rate_country                          0\n",
       "population_country                              0\n",
       "latitude_country                                0\n",
       "longitude_country                               0\n",
       "dtype: int64"
      ]
     },
     "execution_count": 10,
     "metadata": {},
     "output_type": "execute_result"
    }
   ],
   "source": [
    "data.isnull().sum()"
   ]
  },
  {
   "cell_type": "markdown",
   "metadata": {},
   "source": [
    "### Преобразование колонки с $ в число"
   ]
  },
  {
   "cell_type": "code",
   "execution_count": 78,
   "metadata": {},
   "outputs": [],
   "source": [
    "import re\n",
    "\n",
    "def convertBillionFromStrToInt(strBillion):\n",
    "    numbers = re.findall(r'\\b\\d+\\b', str(strBillion))\n",
    "    billion = ''.join(numbers)\n",
    "    return 0 if (billion == '') else int(billion)"
   ]
  },
  {
   "cell_type": "code",
   "execution_count": 79,
   "metadata": {},
   "outputs": [
    {
     "data": {
      "text/plain": [
       "0        2715518274227\n",
       "1       21427700000000\n",
       "2       21427700000000\n",
       "3       21427700000000\n",
       "4       21427700000000\n",
       "             ...      \n",
       "2635    19910000000000\n",
       "2636    21427700000000\n",
       "2637    19910000000000\n",
       "2638    19910000000000\n",
       "2639      376795508680\n",
       "Name: gdp_country, Length: 2640, dtype: int64"
      ]
     },
     "execution_count": 79,
     "metadata": {},
     "output_type": "execute_result"
    }
   ],
   "source": [
    "data['gdp_country'] = data['gdp_country'].apply(lambda x : convertBillionFromStrToInt(x))\n",
    "data['gdp_country']"
   ]
  },
  {
   "cell_type": "code",
   "execution_count": 80,
   "metadata": {},
   "outputs": [
    {
     "name": "stderr",
     "output_type": "stream",
     "text": [
      "/tmp/ipykernel_3638/541291939.py:1: FutureWarning: The default value of numeric_only in DataFrame.median is deprecated. In a future version, it will default to False. In addition, specifying 'numeric_only=None' is deprecated. Select only valid columns or specify the value of numeric_only to silence this warning.\n",
      "  data = data.fillna(data.median())\n"
     ]
    },
    {
     "data": {
      "text/plain": [
       "rank                                           0\n",
       "finalWorth                                     0\n",
       "category                                       0\n",
       "personName                                     0\n",
       "age                                            0\n",
       "country                                       38\n",
       "city                                          72\n",
       "source                                         0\n",
       "industries                                     0\n",
       "countryOfCitizenship                           0\n",
       "selfMade                                       0\n",
       "status                                         0\n",
       "gender                                         0\n",
       "lastName                                       0\n",
       "firstName                                      3\n",
       "date                                           0\n",
       "birthYear                                      0\n",
       "birthMonth                                     0\n",
       "birthDay                                       0\n",
       "cpi_country                                    0\n",
       "cpi_change_country                             0\n",
       "gdp_country                                    0\n",
       "gross_tertiary_education_enrollment            0\n",
       "gross_primary_education_enrollment_country     0\n",
       "life_expectancy_country                        0\n",
       "tax_revenue_country_country                    0\n",
       "total_tax_rate_country                         0\n",
       "population_country                             0\n",
       "latitude_country                               0\n",
       "longitude_country                              0\n",
       "dtype: int64"
      ]
     },
     "execution_count": 80,
     "metadata": {},
     "output_type": "execute_result"
    }
   ],
   "source": [
    "data = data.fillna(data.median())\n",
    "data.isnull().sum()"
   ]
  },
  {
   "cell_type": "markdown",
   "metadata": {},
   "source": [
    "## ----------------------------------------------\n",
    "## Проверка на выбросы\n",
    "## ----------------------------------------------"
   ]
  },
  {
   "cell_type": "markdown",
   "metadata": {},
   "source": [
    "### rank"
   ]
  },
  {
   "cell_type": "code",
   "execution_count": 81,
   "metadata": {},
   "outputs": [
    {
     "data": {
      "text/plain": [
       "<Axes: >"
      ]
     },
     "execution_count": 81,
     "metadata": {},
     "output_type": "execute_result"
    },
    {
     "data": {
      "image/png": "[encoded data removed]",
      "text/plain": [
       "<Figure size 640x480 with 1 Axes>"
      ]
     },
     "metadata": {},
     "output_type": "display_data"
    }
   ],
   "source": [
    "data['rank'].plot(kind = 'box')"
   ]
  },
  {
   "cell_type": "markdown",
   "metadata": {},
   "source": [
    "### finalWorth"
   ]
  },
  {
   "cell_type": "code",
   "execution_count": 82,
   "metadata": {},
   "outputs": [
    {
     "data": {
      "text/plain": [
       "<Axes: >"
      ]
     },
     "execution_count": 82,
     "metadata": {},
     "output_type": "execute_result"
    },
    {
     "data": {
      "image/png": "[encoded data removed]",
      "text/plain": [
       "<Figure size 640x480 with 1 Axes>"
      ]
     },
     "metadata": {},
     "output_type": "display_data"
    }
   ],
   "source": [
    "data['finalWorth'].plot(kind = 'box') # удалить 2 выброса - самых верхних"
   ]
  },
  {
   "cell_type": "markdown",
   "metadata": {},
   "source": [
    "### age"
   ]
  },
  {
   "cell_type": "code",
   "execution_count": 83,
   "metadata": {},
   "outputs": [
    {
     "data": {
      "text/plain": [
       "<Axes: >"
      ]
     },
     "execution_count": 83,
     "metadata": {},
     "output_type": "execute_result"
    },
    {
     "data": {
      "image/png": "[encoded data removed]",
      "text/plain": [
       "<Figure size 640x480 with 1 Axes>"
      ]
     },
     "metadata": {},
     "output_type": "display_data"
    }
   ],
   "source": [
    "data['age'].plot(kind = 'box')"
   ]
  },
  {
   "cell_type": "code",
   "execution_count": 84,
   "metadata": {},
   "outputs": [
    {
     "data": {
      "text/plain": [
       "<Axes: >"
      ]
     },
     "execution_count": 84,
     "metadata": {},
     "output_type": "execute_result"
    },
    {
     "data": {
      "image/png": "[encoded data removed]",
      "text/plain": [
       "<Figure size 640x480 with 1 Axes>"
      ]
     },
     "metadata": {},
     "output_type": "display_data"
    }
   ],
   "source": [
    "data['birthYear'].plot(kind = 'box')"
   ]
  },
  {
   "cell_type": "code",
   "execution_count": 85,
   "metadata": {},
   "outputs": [
    {
     "data": {
      "text/plain": [
       "<Axes: >"
      ]
     },
     "execution_count": 85,
     "metadata": {},
     "output_type": "execute_result"
    },
    {
     "data": {
      "image/png": "[encoded data removed]",
      "text/plain": [
       "<Figure size 640x480 with 1 Axes>"
      ]
     },
     "metadata": {},
     "output_type": "display_data"
    }
   ],
   "source": [
    "data['birthMonth'].plot(kind = 'box')"
   ]
  },
  {
   "cell_type": "code",
   "execution_count": 86,
   "metadata": {},
   "outputs": [
    {
     "data": {
      "text/plain": [
       "<Axes: >"
      ]
     },
     "execution_count": 86,
     "metadata": {},
     "output_type": "execute_result"
    },
    {
     "data": {
      "image/png": "[encoded data removed]",
      "text/plain": [
       "<Figure size 640x480 with 1 Axes>"
      ]
     },
     "metadata": {},
     "output_type": "display_data"
    }
   ],
   "source": [
    "data['birthDay'].plot(kind = 'box')"
   ]
  },
  {
   "cell_type": "code",
   "execution_count": 87,
   "metadata": {},
   "outputs": [
    {
     "data": {
      "text/plain": [
       "<Axes: >"
      ]
     },
     "execution_count": 87,
     "metadata": {},
     "output_type": "execute_result"
    },
    {
     "data": {
      "image/png": "[encoded data removed]",
      "text/plain": [
       "<Figure size 640x480 with 1 Axes>"
      ]
     },
     "metadata": {},
     "output_type": "display_data"
    }
   ],
   "source": [
    "data['cpi_country'].plot(kind = 'box')  # удалить выбросы"
   ]
  },
  {
   "cell_type": "code",
   "execution_count": 88,
   "metadata": {},
   "outputs": [
    {
     "data": {
      "text/plain": [
       "<Axes: >"
      ]
     },
     "execution_count": 88,
     "metadata": {},
     "output_type": "execute_result"
    },
    {
     "data": {
      "image/png": "[encoded data removed]",
      "text/plain": [
       "<Figure size 640x480 with 1 Axes>"
      ]
     },
     "metadata": {},
     "output_type": "display_data"
    }
   ],
   "source": [
    "data['gdp_country'].plot(kind = 'box')"
   ]
  },
  {
   "cell_type": "code",
   "execution_count": 89,
   "metadata": {},
   "outputs": [
    {
     "data": {
      "text/plain": [
       "<Axes: >"
      ]
     },
     "execution_count": 89,
     "metadata": {},
     "output_type": "execute_result"
    },
    {
     "data": {
      "image/png": "[encoded data removed]",
      "text/plain": [
       "<Figure size 640x480 with 1 Axes>"
      ]
     },
     "metadata": {},
     "output_type": "display_data"
    }
   ],
   "source": [
    "data['gross_tertiary_education_enrollment'].plot(kind = 'box')"
   ]
  },
  {
   "cell_type": "code",
   "execution_count": 43,
   "metadata": {},
   "outputs": [
    {
     "data": {
      "text/plain": [
       "<Axes: >"
      ]
     },
     "execution_count": 43,
     "metadata": {},
     "output_type": "execute_result"
    },
    {
     "data": {
      "image/png": "[encoded data removed]",
      "text/plain": [
       "<Figure size 640x480 with 1 Axes>"
      ]
     },
     "metadata": {},
     "output_type": "display_data"
    }
   ],
   "source": [
    "data['gross_primary_education_enrollment_country'].plot(kind = 'box')"
   ]
  },
  {
   "cell_type": "code",
   "execution_count": 44,
   "metadata": {},
   "outputs": [
    {
     "data": {
      "text/plain": [
       "<Axes: >"
      ]
     },
     "execution_count": 44,
     "metadata": {},
     "output_type": "execute_result"
    },
    {
     "data": {
      "image/png": "[encoded data removed]",
      "text/plain": [
       "<Figure size 640x480 with 1 Axes>"
      ]
     },
     "metadata": {},
     "output_type": "display_data"
    }
   ],
   "source": [
    "data['life_expectancy_country'].plot(kind = 'box')"
   ]
  },
  {
   "cell_type": "code",
   "execution_count": 45,
   "metadata": {},
   "outputs": [
    {
     "data": {
      "text/plain": [
       "<Axes: >"
      ]
     },
     "execution_count": 45,
     "metadata": {},
     "output_type": "execute_result"
    },
    {
     "data": {
      "image/png": "[encoded data removed]",
      "text/plain": [
       "<Figure size 640x480 with 1 Axes>"
      ]
     },
     "metadata": {},
     "output_type": "display_data"
    }
   ],
   "source": [
    "data['tax_revenue_country_country'].plot(kind = 'box')"
   ]
  },
  {
   "cell_type": "code",
   "execution_count": 46,
   "metadata": {},
   "outputs": [
    {
     "data": {
      "text/plain": [
       "<Axes: >"
      ]
     },
     "execution_count": 46,
     "metadata": {},
     "output_type": "execute_result"
    },
    {
     "data": {
      "image/png": "[encoded data removed]",
      "text/plain": [
       "<Figure size 640x480 with 1 Axes>"
      ]
     },
     "metadata": {},
     "output_type": "display_data"
    }
   ],
   "source": [
    "data['total_tax_rate_country'].plot(kind = 'box')"
   ]
  },
  {
   "cell_type": "code",
   "execution_count": 47,
   "metadata": {},
   "outputs": [
    {
     "data": {
      "text/plain": [
       "<Axes: >"
      ]
     },
     "execution_count": 47,
     "metadata": {},
     "output_type": "execute_result"
    },
    {
     "data": {
      "image/png": "[encoded data removed]",
      "text/plain": [
       "<Figure size 640x480 with 1 Axes>"
      ]
     },
     "metadata": {},
     "output_type": "display_data"
    }
   ],
   "source": [
    "data['population_country'].plot(kind = 'box')"
   ]
  },
  {
   "cell_type": "code",
   "execution_count": 90,
   "metadata": {},
   "outputs": [
    {
     "data": {
      "text/plain": [
       "<Axes: >"
      ]
     },
     "execution_count": 90,
     "metadata": {},
     "output_type": "execute_result"
    },
    {
     "data": {
      "image/png": "[encoded data removed]",
      "text/plain": [
       "<Figure size 640x480 with 1 Axes>"
      ]
     },
     "metadata": {},
     "output_type": "display_data"
    }
   ],
   "source": [
    "data['latitude_country'].plot(kind = 'box')"
   ]
  },
  {
   "cell_type": "code",
   "execution_count": 49,
   "metadata": {},
   "outputs": [
    {
     "data": {
      "text/plain": [
       "<Axes: >"
      ]
     },
     "execution_count": 49,
     "metadata": {},
     "output_type": "execute_result"
    },
    {
     "data": {
      "image/png": "[encoded data removed]",
      "text/plain": [
       "<Figure size 640x480 with 1 Axes>"
      ]
     },
     "metadata": {},
     "output_type": "display_data"
    }
   ],
   "source": [
    "data['longitude_country'].plot(kind = 'box')"
   ]
  },
  {
   "cell_type": "markdown",
   "metadata": {},
   "source": [
    "## -----------------------------------------\n",
    "## Удаление колонок\n",
    "## -----------------------------------------"
   ]
  },
  {
   "cell_type": "code",
   "execution_count": 91,
   "metadata": {},
   "outputs": [
    {
     "data": {
      "text/html": [
       "<div>\n",
       "<style scoped>\n",
       "    .dataframe tbody tr th:only-of-type {\n",
       "        vertical-align: middle;\n",
       "    }\n",
       "\n",
       "    .dataframe tbody tr th {\n",
       "        vertical-align: top;\n",
       "    }\n",
       "\n",
       "    .dataframe thead th {\n",
       "        text-align: right;\n",
       "    }\n",
       "</style>\n",
       "<table border=\"1\" class=\"dataframe\">\n",
       "  <thead>\n",
       "    <tr style=\"text-align: right;\">\n",
       "      <th></th>\n",
       "      <th>rank</th>\n",
       "      <th>finalWorth</th>\n",
       "      <th>category</th>\n",
       "      <th>personName</th>\n",
       "      <th>age</th>\n",
       "      <th>country</th>\n",
       "      <th>city</th>\n",
       "      <th>source</th>\n",
       "      <th>countryOfCitizenship</th>\n",
       "      <th>selfMade</th>\n",
       "      <th>...</th>\n",
       "      <th>cpi_change_country</th>\n",
       "      <th>gdp_country</th>\n",
       "      <th>gross_tertiary_education_enrollment</th>\n",
       "      <th>gross_primary_education_enrollment_country</th>\n",
       "      <th>life_expectancy_country</th>\n",
       "      <th>tax_revenue_country_country</th>\n",
       "      <th>total_tax_rate_country</th>\n",
       "      <th>population_country</th>\n",
       "      <th>latitude_country</th>\n",
       "      <th>longitude_country</th>\n",
       "    </tr>\n",
       "  </thead>\n",
       "  <tbody>\n",
       "    <tr>\n",
       "      <th>0</th>\n",
       "      <td>1</td>\n",
       "      <td>211000</td>\n",
       "      <td>Fashion &amp; Retail</td>\n",
       "      <td>Bernard Arnault &amp; family</td>\n",
       "      <td>74.0</td>\n",
       "      <td>France</td>\n",
       "      <td>Paris</td>\n",
       "      <td>LVMH</td>\n",
       "      <td>France</td>\n",
       "      <td>False</td>\n",
       "      <td>...</td>\n",
       "      <td>1.1</td>\n",
       "      <td>2715518274227</td>\n",
       "      <td>65.6</td>\n",
       "      <td>102.5</td>\n",
       "      <td>82.5</td>\n",
       "      <td>24.2</td>\n",
       "      <td>60.7</td>\n",
       "      <td>6.705989e+07</td>\n",
       "      <td>46.227638</td>\n",
       "      <td>2.213749</td>\n",
       "    </tr>\n",
       "    <tr>\n",
       "      <th>1</th>\n",
       "      <td>2</td>\n",
       "      <td>180000</td>\n",
       "      <td>Automotive</td>\n",
       "      <td>Elon Musk</td>\n",
       "      <td>51.0</td>\n",
       "      <td>United States</td>\n",
       "      <td>Austin</td>\n",
       "      <td>Tesla, SpaceX</td>\n",
       "      <td>United States</td>\n",
       "      <td>True</td>\n",
       "      <td>...</td>\n",
       "      <td>7.5</td>\n",
       "      <td>21427700000000</td>\n",
       "      <td>88.2</td>\n",
       "      <td>101.8</td>\n",
       "      <td>78.5</td>\n",
       "      <td>9.6</td>\n",
       "      <td>36.6</td>\n",
       "      <td>3.282395e+08</td>\n",
       "      <td>37.090240</td>\n",
       "      <td>-95.712891</td>\n",
       "    </tr>\n",
       "    <tr>\n",
       "      <th>2</th>\n",
       "      <td>3</td>\n",
       "      <td>114000</td>\n",
       "      <td>Technology</td>\n",
       "      <td>Jeff Bezos</td>\n",
       "      <td>59.0</td>\n",
       "      <td>United States</td>\n",
       "      <td>Medina</td>\n",
       "      <td>Amazon</td>\n",
       "      <td>United States</td>\n",
       "      <td>True</td>\n",
       "      <td>...</td>\n",
       "      <td>7.5</td>\n",
       "      <td>21427700000000</td>\n",
       "      <td>88.2</td>\n",
       "      <td>101.8</td>\n",
       "      <td>78.5</td>\n",
       "      <td>9.6</td>\n",
       "      <td>36.6</td>\n",
       "      <td>3.282395e+08</td>\n",
       "      <td>37.090240</td>\n",
       "      <td>-95.712891</td>\n",
       "    </tr>\n",
       "    <tr>\n",
       "      <th>3</th>\n",
       "      <td>4</td>\n",
       "      <td>107000</td>\n",
       "      <td>Technology</td>\n",
       "      <td>Larry Ellison</td>\n",
       "      <td>78.0</td>\n",
       "      <td>United States</td>\n",
       "      <td>Lanai</td>\n",
       "      <td>Oracle</td>\n",
       "      <td>United States</td>\n",
       "      <td>True</td>\n",
       "      <td>...</td>\n",
       "      <td>7.5</td>\n",
       "      <td>21427700000000</td>\n",
       "      <td>88.2</td>\n",
       "      <td>101.8</td>\n",
       "      <td>78.5</td>\n",
       "      <td>9.6</td>\n",
       "      <td>36.6</td>\n",
       "      <td>3.282395e+08</td>\n",
       "      <td>37.090240</td>\n",
       "      <td>-95.712891</td>\n",
       "    </tr>\n",
       "    <tr>\n",
       "      <th>4</th>\n",
       "      <td>5</td>\n",
       "      <td>106000</td>\n",
       "      <td>Finance &amp; Investments</td>\n",
       "      <td>Warren Buffett</td>\n",
       "      <td>92.0</td>\n",
       "      <td>United States</td>\n",
       "      <td>Omaha</td>\n",
       "      <td>Berkshire Hathaway</td>\n",
       "      <td>United States</td>\n",
       "      <td>True</td>\n",
       "      <td>...</td>\n",
       "      <td>7.5</td>\n",
       "      <td>21427700000000</td>\n",
       "      <td>88.2</td>\n",
       "      <td>101.8</td>\n",
       "      <td>78.5</td>\n",
       "      <td>9.6</td>\n",
       "      <td>36.6</td>\n",
       "      <td>3.282395e+08</td>\n",
       "      <td>37.090240</td>\n",
       "      <td>-95.712891</td>\n",
       "    </tr>\n",
       "    <tr>\n",
       "      <th>...</th>\n",
       "      <td>...</td>\n",
       "      <td>...</td>\n",
       "      <td>...</td>\n",
       "      <td>...</td>\n",
       "      <td>...</td>\n",
       "      <td>...</td>\n",
       "      <td>...</td>\n",
       "      <td>...</td>\n",
       "      <td>...</td>\n",
       "      <td>...</td>\n",
       "      <td>...</td>\n",
       "      <td>...</td>\n",
       "      <td>...</td>\n",
       "      <td>...</td>\n",
       "      <td>...</td>\n",
       "      <td>...</td>\n",
       "      <td>...</td>\n",
       "      <td>...</td>\n",
       "      <td>...</td>\n",
       "      <td>...</td>\n",
       "      <td>...</td>\n",
       "    </tr>\n",
       "    <tr>\n",
       "      <th>2635</th>\n",
       "      <td>2540</td>\n",
       "      <td>1000</td>\n",
       "      <td>Healthcare</td>\n",
       "      <td>Yu Rong</td>\n",
       "      <td>51.0</td>\n",
       "      <td>China</td>\n",
       "      <td>Shanghai</td>\n",
       "      <td>Health clinics</td>\n",
       "      <td>China</td>\n",
       "      <td>True</td>\n",
       "      <td>...</td>\n",
       "      <td>2.9</td>\n",
       "      <td>19910000000000</td>\n",
       "      <td>50.6</td>\n",
       "      <td>100.2</td>\n",
       "      <td>77.0</td>\n",
       "      <td>9.4</td>\n",
       "      <td>59.2</td>\n",
       "      <td>1.397715e+09</td>\n",
       "      <td>35.861660</td>\n",
       "      <td>104.195397</td>\n",
       "    </tr>\n",
       "    <tr>\n",
       "      <th>2636</th>\n",
       "      <td>2540</td>\n",
       "      <td>1000</td>\n",
       "      <td>Food &amp; Beverage</td>\n",
       "      <td>Richard Yuengling, Jr.</td>\n",
       "      <td>80.0</td>\n",
       "      <td>United States</td>\n",
       "      <td>Pottsville</td>\n",
       "      <td>Beer</td>\n",
       "      <td>United States</td>\n",
       "      <td>False</td>\n",
       "      <td>...</td>\n",
       "      <td>7.5</td>\n",
       "      <td>21427700000000</td>\n",
       "      <td>88.2</td>\n",
       "      <td>101.8</td>\n",
       "      <td>78.5</td>\n",
       "      <td>9.6</td>\n",
       "      <td>36.6</td>\n",
       "      <td>3.282395e+08</td>\n",
       "      <td>37.090240</td>\n",
       "      <td>-95.712891</td>\n",
       "    </tr>\n",
       "    <tr>\n",
       "      <th>2637</th>\n",
       "      <td>2540</td>\n",
       "      <td>1000</td>\n",
       "      <td>Manufacturing</td>\n",
       "      <td>Zhang Gongyun</td>\n",
       "      <td>60.0</td>\n",
       "      <td>China</td>\n",
       "      <td>Gaomi</td>\n",
       "      <td>Tyre manufacturing machinery</td>\n",
       "      <td>China</td>\n",
       "      <td>True</td>\n",
       "      <td>...</td>\n",
       "      <td>2.9</td>\n",
       "      <td>19910000000000</td>\n",
       "      <td>50.6</td>\n",
       "      <td>100.2</td>\n",
       "      <td>77.0</td>\n",
       "      <td>9.4</td>\n",
       "      <td>59.2</td>\n",
       "      <td>1.397715e+09</td>\n",
       "      <td>35.861660</td>\n",
       "      <td>104.195397</td>\n",
       "    </tr>\n",
       "    <tr>\n",
       "      <th>2638</th>\n",
       "      <td>2540</td>\n",
       "      <td>1000</td>\n",
       "      <td>Real Estate</td>\n",
       "      <td>Zhang Guiping &amp; family</td>\n",
       "      <td>71.0</td>\n",
       "      <td>China</td>\n",
       "      <td>Nanjing</td>\n",
       "      <td>Real estate</td>\n",
       "      <td>China</td>\n",
       "      <td>True</td>\n",
       "      <td>...</td>\n",
       "      <td>2.9</td>\n",
       "      <td>19910000000000</td>\n",
       "      <td>50.6</td>\n",
       "      <td>100.2</td>\n",
       "      <td>77.0</td>\n",
       "      <td>9.4</td>\n",
       "      <td>59.2</td>\n",
       "      <td>1.397715e+09</td>\n",
       "      <td>35.861660</td>\n",
       "      <td>104.195397</td>\n",
       "    </tr>\n",
       "    <tr>\n",
       "      <th>2639</th>\n",
       "      <td>2540</td>\n",
       "      <td>1000</td>\n",
       "      <td>Diversified</td>\n",
       "      <td>Inigo Zobel</td>\n",
       "      <td>66.0</td>\n",
       "      <td>Philippines</td>\n",
       "      <td>Makati</td>\n",
       "      <td>Diversified</td>\n",
       "      <td>Philippines</td>\n",
       "      <td>False</td>\n",
       "      <td>...</td>\n",
       "      <td>2.5</td>\n",
       "      <td>376795508680</td>\n",
       "      <td>35.5</td>\n",
       "      <td>107.5</td>\n",
       "      <td>71.1</td>\n",
       "      <td>14.0</td>\n",
       "      <td>43.1</td>\n",
       "      <td>1.081166e+08</td>\n",
       "      <td>12.879721</td>\n",
       "      <td>121.774017</td>\n",
       "    </tr>\n",
       "  </tbody>\n",
       "</table>\n",
       "<p>2640 rows × 29 columns</p>\n",
       "</div>"
      ],
      "text/plain": [
       "      rank  finalWorth               category                personName   age  \\\n",
       "0        1      211000       Fashion & Retail  Bernard Arnault & family  74.0   \n",
       "1        2      180000             Automotive                 Elon Musk  51.0   \n",
       "2        3      114000             Technology                Jeff Bezos  59.0   \n",
       "3        4      107000             Technology             Larry Ellison  78.0   \n",
       "4        5      106000  Finance & Investments            Warren Buffett  92.0   \n",
       "...    ...         ...                    ...                       ...   ...   \n",
       "2635  2540        1000             Healthcare                   Yu Rong  51.0   \n",
       "2636  2540        1000        Food & Beverage    Richard Yuengling, Jr.  80.0   \n",
       "2637  2540        1000          Manufacturing             Zhang Gongyun  60.0   \n",
       "2638  2540        1000            Real Estate    Zhang Guiping & family  71.0   \n",
       "2639  2540        1000            Diversified               Inigo Zobel  66.0   \n",
       "\n",
       "            country        city                        source  \\\n",
       "0            France       Paris                          LVMH   \n",
       "1     United States      Austin                 Tesla, SpaceX   \n",
       "2     United States      Medina                        Amazon   \n",
       "3     United States       Lanai                        Oracle   \n",
       "4     United States       Omaha            Berkshire Hathaway   \n",
       "...             ...         ...                           ...   \n",
       "2635          China    Shanghai                Health clinics   \n",
       "2636  United States  Pottsville                          Beer   \n",
       "2637          China       Gaomi  Tyre manufacturing machinery   \n",
       "2638          China     Nanjing                   Real estate   \n",
       "2639    Philippines      Makati                   Diversified   \n",
       "\n",
       "     countryOfCitizenship  selfMade  ... cpi_change_country     gdp_country  \\\n",
       "0                  France     False  ...                1.1   2715518274227   \n",
       "1           United States      True  ...                7.5  21427700000000   \n",
       "2           United States      True  ...                7.5  21427700000000   \n",
       "3           United States      True  ...                7.5  21427700000000   \n",
       "4           United States      True  ...                7.5  21427700000000   \n",
       "...                   ...       ...  ...                ...             ...   \n",
       "2635                China      True  ...                2.9  19910000000000   \n",
       "2636        United States     False  ...                7.5  21427700000000   \n",
       "2637                China      True  ...                2.9  19910000000000   \n",
       "2638                China      True  ...                2.9  19910000000000   \n",
       "2639          Philippines     False  ...                2.5    376795508680   \n",
       "\n",
       "     gross_tertiary_education_enrollment  \\\n",
       "0                                   65.6   \n",
       "1                                   88.2   \n",
       "2                                   88.2   \n",
       "3                                   88.2   \n",
       "4                                   88.2   \n",
       "...                                  ...   \n",
       "2635                                50.6   \n",
       "2636                                88.2   \n",
       "2637                                50.6   \n",
       "2638                                50.6   \n",
       "2639                                35.5   \n",
       "\n",
       "     gross_primary_education_enrollment_country life_expectancy_country  \\\n",
       "0                                         102.5                    82.5   \n",
       "1                                         101.8                    78.5   \n",
       "2                                         101.8                    78.5   \n",
       "3                                         101.8                    78.5   \n",
       "4                                         101.8                    78.5   \n",
       "...                                         ...                     ...   \n",
       "2635                                      100.2                    77.0   \n",
       "2636                                      101.8                    78.5   \n",
       "2637                                      100.2                    77.0   \n",
       "2638                                      100.2                    77.0   \n",
       "2639                                      107.5                    71.1   \n",
       "\n",
       "      tax_revenue_country_country  total_tax_rate_country  population_country  \\\n",
       "0                            24.2                    60.7        6.705989e+07   \n",
       "1                             9.6                    36.6        3.282395e+08   \n",
       "2                             9.6                    36.6        3.282395e+08   \n",
       "3                             9.6                    36.6        3.282395e+08   \n",
       "4                             9.6                    36.6        3.282395e+08   \n",
       "...                           ...                     ...                 ...   \n",
       "2635                          9.4                    59.2        1.397715e+09   \n",
       "2636                          9.6                    36.6        3.282395e+08   \n",
       "2637                          9.4                    59.2        1.397715e+09   \n",
       "2638                          9.4                    59.2        1.397715e+09   \n",
       "2639                         14.0                    43.1        1.081166e+08   \n",
       "\n",
       "      latitude_country  longitude_country  \n",
       "0            46.227638           2.213749  \n",
       "1            37.090240         -95.712891  \n",
       "2            37.090240         -95.712891  \n",
       "3            37.090240         -95.712891  \n",
       "4            37.090240         -95.712891  \n",
       "...                ...                ...  \n",
       "2635         35.861660         104.195397  \n",
       "2636         37.090240         -95.712891  \n",
       "2637         35.861660         104.195397  \n",
       "2638         35.861660         104.195397  \n",
       "2639         12.879721         121.774017  \n",
       "\n",
       "[2640 rows x 29 columns]"
      ]
     },
     "execution_count": 91,
     "metadata": {},
     "output_type": "execute_result"
    }
   ],
   "source": [
    "# Т.к. category и industries одинаковые\n",
    "data = data.drop(columns = 'industries')\n",
    "data"
   ]
  },
  {
   "cell_type": "markdown",
   "metadata": {},
   "source": [
    "### Удалить строки со значением 'city' и 'country', равное nan"
   ]
  },
  {
   "cell_type": "code",
   "execution_count": 92,
   "metadata": {},
   "outputs": [],
   "source": [
    "data = data.dropna(subset = 'city')"
   ]
  },
  {
   "cell_type": "code",
   "execution_count": 93,
   "metadata": {},
   "outputs": [
    {
     "data": {
      "text/plain": [
       "rank                                          0\n",
       "finalWorth                                    0\n",
       "category                                      0\n",
       "personName                                    0\n",
       "age                                           0\n",
       "country                                       0\n",
       "city                                          0\n",
       "source                                        0\n",
       "countryOfCitizenship                          0\n",
       "selfMade                                      0\n",
       "status                                        0\n",
       "gender                                        0\n",
       "lastName                                      0\n",
       "firstName                                     3\n",
       "date                                          0\n",
       "birthYear                                     0\n",
       "birthMonth                                    0\n",
       "birthDay                                      0\n",
       "cpi_country                                   0\n",
       "cpi_change_country                            0\n",
       "gdp_country                                   0\n",
       "gross_tertiary_education_enrollment           0\n",
       "gross_primary_education_enrollment_country    0\n",
       "life_expectancy_country                       0\n",
       "tax_revenue_country_country                   0\n",
       "total_tax_rate_country                        0\n",
       "population_country                            0\n",
       "latitude_country                              0\n",
       "longitude_country                             0\n",
       "dtype: int64"
      ]
     },
     "execution_count": 93,
     "metadata": {},
     "output_type": "execute_result"
    }
   ],
   "source": [
    "data.isna().sum()\n",
    "# заполнить nan у города медианой при кодировании категориальных значений"
   ]
  },
  {
   "cell_type": "markdown",
   "metadata": {},
   "source": [
    "### Удаление выбросов"
   ]
  },
  {
   "cell_type": "code",
   "execution_count": 94,
   "metadata": {},
   "outputs": [],
   "source": [
    "def clearOutliers(column):\n",
    "    global data\n",
    "    first_quartile = data[column].describe()['25%']\n",
    "    third_quartile = data[column].describe()['75%']\n",
    "\n",
    "    # Interquartile range\n",
    "    iqr = third_quartile - first_quartile\n",
    "\n",
    "    # Remove outliers\n",
    "    data = data[(data[column] > (first_quartile - 3 * iqr)) &\n",
    "            (data[column] < (third_quartile + 3 * iqr))]"
   ]
  },
  {
   "cell_type": "code",
   "execution_count": 95,
   "metadata": {},
   "outputs": [],
   "source": [
    "outlierColumns = ['finalWorth', 'age', 'birthYear', 'cpi_country', 'gross_primary_education_enrollment_country',\n",
    "                    'life_expectancy_country', 'tax_revenue_country_country', 'total_tax_rate_country', 'latitude_country']\n",
    "\n",
    "for column in outlierColumns:\n",
    "    clearOutliers(column=column)"
   ]
  },
  {
   "cell_type": "code",
   "execution_count": 96,
   "metadata": {},
   "outputs": [
    {
     "data": {
      "text/plain": [
       "<Axes: >"
      ]
     },
     "execution_count": 96,
     "metadata": {},
     "output_type": "execute_result"
    },
    {
     "data": {
      "image/png": "[encoded data removed]",
      "text/plain": [
       "<Figure size 640x480 with 1 Axes>"
      ]
     },
     "metadata": {},
     "output_type": "display_data"
    }
   ],
   "source": [
    "data['finalWorth'].plot(kind = 'box')"
   ]
  },
  {
   "cell_type": "code",
   "execution_count": 97,
   "metadata": {},
   "outputs": [
    {
     "data": {
      "text/plain": [
       "<Axes: >"
      ]
     },
     "execution_count": 97,
     "metadata": {},
     "output_type": "execute_result"
    },
    {
     "data": {
      "image/png": "[encoded data removed]",
      "text/plain": [
       "<Figure size 640x480 with 1 Axes>"
      ]
     },
     "metadata": {},
     "output_type": "display_data"
    }
   ],
   "source": [
    "data['age'].plot(kind = 'box')"
   ]
  },
  {
   "cell_type": "code",
   "execution_count": 98,
   "metadata": {},
   "outputs": [
    {
     "data": {
      "text/plain": [
       "<Axes: >"
      ]
     },
     "execution_count": 98,
     "metadata": {},
     "output_type": "execute_result"
    },
    {
     "data": {
      "image/png": "[encoded data removed]",
      "text/plain": [
       "<Figure size 640x480 with 1 Axes>"
      ]
     },
     "metadata": {},
     "output_type": "display_data"
    }
   ],
   "source": [
    "data['birthYear'].plot(kind = 'box')"
   ]
  },
  {
   "cell_type": "code",
   "execution_count": 99,
   "metadata": {},
   "outputs": [
    {
     "data": {
      "text/plain": [
       "<Axes: >"
      ]
     },
     "execution_count": 99,
     "metadata": {},
     "output_type": "execute_result"
    },
    {
     "data": {
      "image/png": "[encoded data removed]",
      "text/plain": [
       "<Figure size 640x480 with 1 Axes>"
      ]
     },
     "metadata": {},
     "output_type": "display_data"
    }
   ],
   "source": [
    "data['cpi_country'].plot(kind = 'box')"
   ]
  },
  {
   "cell_type": "code",
   "execution_count": 100,
   "metadata": {},
   "outputs": [
    {
     "data": {
      "text/plain": [
       "<Axes: >"
      ]
     },
     "execution_count": 100,
     "metadata": {},
     "output_type": "execute_result"
    },
    {
     "data": {
      "image/png": "[encoded data removed]",
      "text/plain": [
       "<Figure size 640x480 with 1 Axes>"
      ]
     },
     "metadata": {},
     "output_type": "display_data"
    }
   ],
   "source": [
    "data['gross_primary_education_enrollment_country'].plot(kind = 'box')"
   ]
  },
  {
   "cell_type": "code",
   "execution_count": 101,
   "metadata": {},
   "outputs": [
    {
     "data": {
      "text/plain": [
       "<Axes: >"
      ]
     },
     "execution_count": 101,
     "metadata": {},
     "output_type": "execute_result"
    },
    {
     "data": {
      "image/png": "[encoded data removed]",
      "text/plain": [
       "<Figure size 640x480 with 1 Axes>"
      ]
     },
     "metadata": {},
     "output_type": "display_data"
    }
   ],
   "source": [
    "data['life_expectancy_country'].plot(kind = 'box')"
   ]
  },
  {
   "cell_type": "code",
   "execution_count": 102,
   "metadata": {},
   "outputs": [
    {
     "data": {
      "text/plain": [
       "<Axes: >"
      ]
     },
     "execution_count": 102,
     "metadata": {},
     "output_type": "execute_result"
    },
    {
     "data": {
      "image/png": "[encoded data removed]",
      "text/plain": [
       "<Figure size 640x480 with 1 Axes>"
      ]
     },
     "metadata": {},
     "output_type": "display_data"
    }
   ],
   "source": [
    "data['tax_revenue_country_country'].plot(kind = 'box')"
   ]
  },
  {
   "cell_type": "code",
   "execution_count": 103,
   "metadata": {},
   "outputs": [
    {
     "data": {
      "text/plain": [
       "<Axes: >"
      ]
     },
     "execution_count": 103,
     "metadata": {},
     "output_type": "execute_result"
    },
    {
     "data": {
      "image/png": "[encoded data removed]",
      "text/plain": [
       "<Figure size 640x480 with 1 Axes>"
      ]
     },
     "metadata": {},
     "output_type": "display_data"
    }
   ],
   "source": [
    "data['total_tax_rate_country'].plot(kind = 'box')"
   ]
  },
  {
   "cell_type": "code",
   "execution_count": 104,
   "metadata": {},
   "outputs": [
    {
     "data": {
      "text/plain": [
       "<Axes: >"
      ]
     },
     "execution_count": 104,
     "metadata": {},
     "output_type": "execute_result"
    },
    {
     "data": {
      "image/png": "[encoded data removed]",
      "text/plain": [
       "<Figure size 640x480 with 1 Axes>"
      ]
     },
     "metadata": {},
     "output_type": "display_data"
    }
   ],
   "source": [
    "data['latitude_country'].plot(kind = 'box')"
   ]
  },
  {
   "cell_type": "code",
   "execution_count": 105,
   "metadata": {},
   "outputs": [],
   "source": [
    "data.to_csv(\"after_clear_outliers.csv\")"
   ]
  }
 ],
 "metadata": {
  "kernelspec": {
   "display_name": "Python 3",
   "language": "python",
   "name": "python3"
  },
  "language_info": {
   "codemirror_mode": {
    "name": "ipython",
    "version": 3
   },
   "file_extension": ".py",
   "mimetype": "text/x-python",
   "name": "python",
   "nbconvert_exporter": "python",
   "pygments_lexer": "ipython3",
   "version": "3.11.5"
  }
 },
 "nbformat": 4,
 "nbformat_minor": 2
}
